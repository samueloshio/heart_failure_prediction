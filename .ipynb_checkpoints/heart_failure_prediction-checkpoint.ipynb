{
 "cells": [
  {
   "cell_type": "markdown",
   "id": "ed2bbe93-3baa-4f87-8f32-4631d0bff33e",
   "metadata": {},
   "source": [
    "# Data Wrangling\n",
    "- The first stage for data prcessing"
   ]
  },
  {
   "cell_type": "code",
   "execution_count": null,
   "id": "5a70a9b9-2b19-49e9-8501-47d8e5de5d0f",
   "metadata": {},
   "outputs": [],
   "source": [
    "# Loading modules\n",
    "import numpy as np\n",
    "import pandas as pd\n",
    "import matplotlib.pyplot as plt # Data Viz\n",
    "import seaborn as sns # Data viz"
   ]
  }
 ],
 "metadata": {
  "kernelspec": {
   "display_name": "PyTensorFlow",
   "language": "python",
   "name": "py_tf"
  },
  "language_info": {
   "codemirror_mode": {
    "name": "ipython",
    "version": 3
   },
   "file_extension": ".py",
   "mimetype": "text/x-python",
   "name": "python",
   "nbconvert_exporter": "python",
   "pygments_lexer": "ipython3",
   "version": "3.11.4"
  },
  "widgets": {
   "application/vnd.jupyter.widget-state+json": {
    "state": {},
    "version_major": 2,
    "version_minor": 0
   }
  }
 },
 "nbformat": 4,
 "nbformat_minor": 5
}
